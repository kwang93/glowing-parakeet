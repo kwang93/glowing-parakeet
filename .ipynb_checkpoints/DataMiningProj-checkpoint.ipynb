{
 "cells": [
  {
   "cell_type": "code",
   "execution_count": 1,
   "metadata": {},
   "outputs": [
    {
     "name": "stdout",
     "output_type": "stream",
     "text": [
      "[[ 1  1  4 ..., 72 72 74]\n",
      " [ 1  2  2 ..., 69 90 88]\n",
      " [ 1  1  5 ..., 90 95 93]\n",
      " ..., \n",
      " [ 1  2  1 ..., 59 71 65]\n",
      " [ 1  3  2 ..., 68 78 77]\n",
      " [ 1  3  2 ..., 77 86 86]]\n"
     ]
    }
   ],
   "source": [
    "import pandas as pd\n",
    "import numpy as np\n",
    "import csv\n",
    "\n",
    "data = pd.read_csv('StudentsPerformance.csv')\n",
    "#print(data.head())\n",
    "\n",
    "numeric_data = data.replace(['male', 'female'], [0,1])\n",
    "numeric_data = numeric_data.replace(['group A', 'group B', 'group C', 'group D', 'group E'], [0,1,2,3,4])\n",
    "numeric_data = numeric_data.replace(['some high school', 'high school', 'some college', \"associate's degree\"\n",
    "                                     , \"bachelor's degree\", \"master's degree\"], [0,1,2,3,4,5])\n",
    "numeric_data = numeric_data.replace(['free/reduced', 'standard'], [0,1])\n",
    "numeric_data = numeric_data.replace(['none', 'completed'], [0,1])\n",
    "numeric_data = numeric_data.values\n",
    "print(numeric_data)\n"
   ]
  },
  {
   "cell_type": "code",
   "execution_count": null,
   "metadata": {},
   "outputs": [],
   "source": [
    "import matplotlib.pyplot as plt\n"
   ]
  }
 ],
 "metadata": {
  "kernelspec": {
   "display_name": "Python 3",
   "language": "python",
   "name": "python3"
  },
  "language_info": {
   "codemirror_mode": {
    "name": "ipython",
    "version": 3
   },
   "file_extension": ".py",
   "mimetype": "text/x-python",
   "name": "python",
   "nbconvert_exporter": "python",
   "pygments_lexer": "ipython3",
   "version": "3.6.0"
  }
 },
 "nbformat": 4,
 "nbformat_minor": 2
}
